{
 "cells": [
  {
   "cell_type": "markdown",
   "id": "5fc47a11",
   "metadata": {},
   "source": [
    "# Saswatat Sarkar 19279 Activity_1"
   ]
  },
  {
   "cell_type": "markdown",
   "id": "ea9cd712",
   "metadata": {},
   "source": [
    "### EXAMPLE: Getting to Know the Order of Operations"
   ]
  },
  {
   "cell_type": "code",
   "execution_count": 6,
   "id": "11a5e5fa",
   "metadata": {},
   "outputs": [
    {
     "data": {
      "text/plain": [
       "-5.0"
      ]
     },
     "execution_count": 6,
     "metadata": {},
     "output_type": "execute_result"
    }
   ],
   "source": [
    "(100-(5**3))/5"
   ]
  },
  {
   "cell_type": "code",
   "execution_count": 4,
   "id": "14f1ec46",
   "metadata": {},
   "outputs": [
    {
     "data": {
      "text/plain": [
       "9"
      ]
     },
     "execution_count": 4,
     "metadata": {},
     "output_type": "execute_result"
    }
   ],
   "source": [
    "6 + (15 % 4)"
   ]
  },
  {
   "cell_type": "code",
   "execution_count": 5,
   "id": "e545fbc5",
   "metadata": {},
   "outputs": [
    {
     "data": {
      "text/plain": [
       "10"
      ]
     },
     "execution_count": 5,
     "metadata": {},
     "output_type": "execute_result"
    }
   ],
   "source": [
    "(2**2) + (24//4)"
   ]
  },
  {
   "cell_type": "markdown",
   "id": "adc8db5a",
   "metadata": {},
   "source": [
    "### Exercise 1: Integer and Float Types"
   ]
  },
  {
   "cell_type": "code",
   "execution_count": 4,
   "id": "3f929f5e",
   "metadata": {},
   "outputs": [
    {
     "data": {
      "text/plain": [
       "int"
      ]
     },
     "execution_count": 4,
     "metadata": {},
     "output_type": "execute_result"
    }
   ],
   "source": [
    "type(6)"
   ]
  },
  {
   "cell_type": "code",
   "execution_count": 5,
   "id": "09fd9dd1",
   "metadata": {},
   "outputs": [
    {
     "data": {
      "text/plain": [
       "float"
      ]
     },
     "execution_count": 5,
     "metadata": {},
     "output_type": "execute_result"
    }
   ],
   "source": [
    "type(6.0)"
   ]
  },
  {
   "cell_type": "code",
   "execution_count": 6,
   "id": "70ee4eb5",
   "metadata": {},
   "outputs": [
    {
     "data": {
      "text/plain": [
       "float"
      ]
     },
     "execution_count": 6,
     "metadata": {},
     "output_type": "execute_result"
    }
   ],
   "source": [
    "type(5 + 3.14)"
   ]
  },
  {
   "cell_type": "code",
   "execution_count": 7,
   "id": "989bc1d5",
   "metadata": {},
   "outputs": [
    {
     "data": {
      "text/plain": [
       "7"
      ]
     },
     "execution_count": 7,
     "metadata": {},
     "output_type": "execute_result"
    }
   ],
   "source": [
    "int(7.999999999)"
   ]
  },
  {
   "cell_type": "code",
   "execution_count": 8,
   "id": "5792a7c9",
   "metadata": {
    "scrolled": true
   },
   "outputs": [
    {
     "data": {
      "text/plain": [
       "6.0"
      ]
     },
     "execution_count": 8,
     "metadata": {},
     "output_type": "execute_result"
    }
   ],
   "source": [
    "float(6)"
   ]
  },
  {
   "cell_type": "markdown",
   "id": "cdbdc121",
   "metadata": {},
   "source": [
    "### Exercise 2: Assigning Variables"
   ]
  },
  {
   "cell_type": "code",
   "execution_count": 9,
   "id": "157d0dcf",
   "metadata": {},
   "outputs": [],
   "source": [
    "x = 2"
   ]
  },
  {
   "cell_type": "code",
   "execution_count": 10,
   "id": "12fcf35e",
   "metadata": {},
   "outputs": [
    {
     "data": {
      "text/plain": [
       "3"
      ]
     },
     "execution_count": 10,
     "metadata": {},
     "output_type": "execute_result"
    }
   ],
   "source": [
    "x += 1\n",
    "x"
   ]
  },
  {
   "cell_type": "code",
   "execution_count": 11,
   "id": "c32080d5",
   "metadata": {},
   "outputs": [
    {
     "data": {
      "text/plain": [
       "4.0"
      ]
     },
     "execution_count": 11,
     "metadata": {},
     "output_type": "execute_result"
    }
   ],
   "source": [
    "float(x) + 1"
   ]
  },
  {
   "cell_type": "markdown",
   "id": "a0a83ea3",
   "metadata": {},
   "source": [
    "### Exercise 3: Variable Names"
   ]
  },
  {
   "cell_type": "code",
   "execution_count": 12,
   "id": "d08c9b94",
   "metadata": {},
   "outputs": [
    {
     "ename": "SyntaxError",
     "evalue": "invalid syntax (<ipython-input-12-05d80cc97354>, line 1)",
     "output_type": "error",
     "traceback": [
      "\u001b[1;36m  File \u001b[1;32m\"<ipython-input-12-05d80cc97354>\"\u001b[1;36m, line \u001b[1;32m1\u001b[0m\n\u001b[1;33m    1st_number = 1\u001b[0m\n\u001b[1;37m     ^\u001b[0m\n\u001b[1;31mSyntaxError\u001b[0m\u001b[1;31m:\u001b[0m invalid syntax\n"
     ]
    }
   ],
   "source": [
    "1st_number = 1"
   ]
  },
  {
   "cell_type": "code",
   "execution_count": 13,
   "id": "c5957567",
   "metadata": {},
   "outputs": [],
   "source": [
    "first_number = 1"
   ]
  },
  {
   "cell_type": "code",
   "execution_count": 14,
   "id": "14b40938",
   "metadata": {},
   "outputs": [
    {
     "ename": "SyntaxError",
     "evalue": "invalid syntax (<ipython-input-14-e3c03546ed83>, line 1)",
     "output_type": "error",
     "traceback": [
      "\u001b[1;36m  File \u001b[1;32m\"<ipython-input-14-e3c03546ed83>\"\u001b[1;36m, line \u001b[1;32m1\u001b[0m\n\u001b[1;33m    my_$ = 1000.00\u001b[0m\n\u001b[1;37m       ^\u001b[0m\n\u001b[1;31mSyntaxError\u001b[0m\u001b[1;31m:\u001b[0m invalid syntax\n"
     ]
    }
   ],
   "source": [
    "my_$ = 1000.00"
   ]
  },
  {
   "cell_type": "code",
   "execution_count": 15,
   "id": "ade2b9c2",
   "metadata": {},
   "outputs": [],
   "source": [
    "my_money = 1000.00"
   ]
  },
  {
   "cell_type": "code",
   "execution_count": 16,
   "id": "f522a94b",
   "metadata": {},
   "outputs": [
    {
     "name": "stdout",
     "output_type": "stream",
     "text": [
      "The value assigned to first_number is 1\n",
      "The value assigned to my_money is 1000.0\n"
     ]
    }
   ],
   "source": [
    "print('The value assigned to first_number is '+ str(first_number))\n",
    "print('The value assigned to my_money is '+ str(my_money))"
   ]
  },
  {
   "cell_type": "markdown",
   "id": "f69a884b",
   "metadata": {},
   "source": [
    "### Exercise 4: Multiple Variables in Python"
   ]
  },
  {
   "cell_type": "code",
   "execution_count": 17,
   "id": "68e0f4bd",
   "metadata": {},
   "outputs": [],
   "source": [
    "x,y = 5,2"
   ]
  },
  {
   "cell_type": "code",
   "execution_count": 18,
   "id": "3b3f7795",
   "metadata": {},
   "outputs": [
    {
     "data": {
      "text/plain": [
       "6"
      ]
     },
     "execution_count": 18,
     "metadata": {},
     "output_type": "execute_result"
    }
   ],
   "source": [
    "(x + x) - (y**2)"
   ]
  },
  {
   "cell_type": "code",
   "execution_count": 19,
   "id": "e51d3a5b",
   "metadata": {},
   "outputs": [],
   "source": [
    "x,y = 8,5"
   ]
  },
  {
   "cell_type": "code",
   "execution_count": 20,
   "id": "344f8fdb",
   "metadata": {},
   "outputs": [
    {
     "data": {
      "text/plain": [
       "1"
      ]
     },
     "execution_count": 20,
     "metadata": {},
     "output_type": "execute_result"
    }
   ],
   "source": [
    "x//y"
   ]
  },
  {
   "cell_type": "markdown",
   "id": "8ba47046",
   "metadata": {},
   "source": [
    "### Exercise 5: Comments in Python"
   ]
  },
  {
   "cell_type": "code",
   "execution_count": 21,
   "id": "e524c8f8",
   "metadata": {},
   "outputs": [],
   "source": [
    "# This is a comment"
   ]
  },
  {
   "cell_type": "code",
   "execution_count": 22,
   "id": "37936279",
   "metadata": {},
   "outputs": [],
   "source": [
    "# Set the variable pi equal to 3.14"
   ]
  },
  {
   "cell_type": "code",
   "execution_count": 23,
   "id": "b09e29b6",
   "metadata": {},
   "outputs": [],
   "source": [
    "pi = 3.14"
   ]
  },
  {
   "cell_type": "code",
   "execution_count": 24,
   "id": "435ed753",
   "metadata": {},
   "outputs": [],
   "source": [
    "pi = 3.14     # Set the variable pi equal to 3.14"
   ]
  },
  {
   "cell_type": "markdown",
   "id": "0d52795a",
   "metadata": {},
   "source": [
    "### Exercise 6: The input() Function"
   ]
  },
  {
   "cell_type": "code",
   "execution_count": 25,
   "id": "2335e653",
   "metadata": {},
   "outputs": [
    {
     "name": "stdout",
     "output_type": "stream",
     "text": [
      "What is your name?\n"
     ]
    }
   ],
   "source": [
    "print('What is your name?')"
   ]
  },
  {
   "cell_type": "code",
   "execution_count": 27,
   "id": "6e062990",
   "metadata": {},
   "outputs": [
    {
     "name": "stdout",
     "output_type": "stream",
     "text": [
      "Saswata\n",
      "Hello, Saswata.\n"
     ]
    }
   ],
   "source": [
    "name = input()\n",
    "print('Hello, '+ name + '.')"
   ]
  },
  {
   "cell_type": "markdown",
   "id": "a2fef010",
   "metadata": {},
   "source": [
    "### Exercise 7: Boolean Variables"
   ]
  },
  {
   "cell_type": "code",
   "execution_count": 1,
   "id": "1b7a20cc",
   "metadata": {},
   "outputs": [
    {
     "data": {
      "text/plain": [
       "bool"
      ]
     },
     "execution_count": 1,
     "metadata": {},
     "output_type": "execute_result"
    }
   ],
   "source": [
    "over_18 = True      # Using the varaible 'over_18' and boolean.\n",
    "type(over_18)        # Determining the type of the variable 'over_18'"
   ]
  },
  {
   "cell_type": "markdown",
   "id": "d649b6f6",
   "metadata": {},
   "source": [
    "### Exercise 8: Comparison Operators"
   ]
  },
  {
   "cell_type": "code",
   "execution_count": 1,
   "id": "0b6b0e3b",
   "metadata": {},
   "outputs": [
    {
     "data": {
      "text/plain": [
       "False"
      ]
     },
     "execution_count": 1,
     "metadata": {},
     "output_type": "execute_result"
    }
   ],
   "source": [
    "age = 20\n",
    "age < 13    # The output will be False as age is not less that 13"
   ]
  },
  {
   "cell_type": "code",
   "execution_count": 2,
   "id": "2f25d2e0",
   "metadata": {},
   "outputs": [
    {
     "data": {
      "text/plain": [
       "True"
      ]
     },
     "execution_count": 2,
     "metadata": {},
     "output_type": "execute_result"
    }
   ],
   "source": [
    "age >= 20 and age <= 21"
   ]
  },
  {
   "cell_type": "code",
   "execution_count": 30,
   "id": "7ed88cb3",
   "metadata": {},
   "outputs": [
    {
     "data": {
      "text/plain": [
       "True"
      ]
     },
     "execution_count": 30,
     "metadata": {},
     "output_type": "execute_result"
    }
   ],
   "source": [
    "age != 21"
   ]
  },
  {
   "cell_type": "code",
   "execution_count": 31,
   "id": "77e15e4c",
   "metadata": {},
   "outputs": [
    {
     "data": {
      "text/plain": [
       "False"
      ]
     },
     "execution_count": 31,
     "metadata": {},
     "output_type": "execute_result"
    }
   ],
   "source": [
    "age == 19"
   ]
  },
  {
   "cell_type": "code",
   "execution_count": 32,
   "id": "00f6457a",
   "metadata": {},
   "outputs": [
    {
     "data": {
      "text/plain": [
       "True"
      ]
     },
     "execution_count": 32,
     "metadata": {},
     "output_type": "execute_result"
    }
   ],
   "source": [
    "6 == 6.0"
   ]
  },
  {
   "cell_type": "code",
   "execution_count": 33,
   "id": "388dc82c",
   "metadata": {},
   "outputs": [
    {
     "data": {
      "text/plain": [
       "False"
      ]
     },
     "execution_count": 33,
     "metadata": {},
     "output_type": "execute_result"
    }
   ],
   "source": [
    "6 == '6'"
   ]
  },
  {
   "cell_type": "code",
   "execution_count": 34,
   "id": "e9de2871",
   "metadata": {},
   "outputs": [
    {
     "data": {
      "text/plain": [
       "True"
      ]
     },
     "execution_count": 34,
     "metadata": {},
     "output_type": "execute_result"
    }
   ],
   "source": [
    "(age >= 20 and age < 30) or (age >= 30 and age < 40)"
   ]
  },
  {
   "cell_type": "code",
   "execution_count": 35,
   "id": "34e55cc2",
   "metadata": {},
   "outputs": [
    {
     "data": {
      "text/plain": [
       "True"
      ]
     },
     "execution_count": 35,
     "metadata": {},
     "output_type": "execute_result"
    }
   ],
   "source": [
    "(20 <= age < 30) or (30 <= age < 40)\n"
   ]
  },
  {
   "cell_type": "markdown",
   "id": "67b095e4",
   "metadata": {},
   "source": [
    "### Exercise 9: Using the if Syntax"
   ]
  },
  {
   "cell_type": "code",
   "execution_count": 36,
   "id": "1d0be91a",
   "metadata": {},
   "outputs": [
    {
     "name": "stdout",
     "output_type": "stream",
     "text": [
      "At least you can vote.\n",
      "Poker will have to wait.\n"
     ]
    }
   ],
   "source": [
    "age = 18\n",
    "if age >= 18 and age < 21:\n",
    "    print('At least you can vote.')\n",
    "    print('Poker will have to wait.')"
   ]
  },
  {
   "cell_type": "code",
   "execution_count": 37,
   "id": "18434a85",
   "metadata": {},
   "outputs": [
    {
     "name": "stdout",
     "output_type": "stream",
     "text": [
      "You can vote.\n"
     ]
    }
   ],
   "source": [
    "if age >= 18:\n",
    "    print('You can vote.')\n",
    "if age >= 21:\n",
    "    print('You can play poker.')"
   ]
  },
  {
   "cell_type": "markdown",
   "id": "7becc2c1",
   "metadata": {},
   "source": [
    "### Exercise 10: Using the if-else Syntax"
   ]
  },
  {
   "cell_type": "code",
   "execution_count": 38,
   "id": "b076a42a",
   "metadata": {},
   "outputs": [
    {
     "name": "stdout",
     "output_type": "stream",
     "text": [
      "Welcome to our voting program.\n"
     ]
    }
   ],
   "source": [
    "age = 20\n",
    "if age < 18:\n",
    "    print('You aren\\'t old enough to vote.')\n",
    "else:\n",
    "    print('Welcome to our voting program.')"
   ]
  },
  {
   "cell_type": "code",
   "execution_count": 39,
   "id": "345d8276",
   "metadata": {},
   "outputs": [
    {
     "name": "stdout",
     "output_type": "stream",
     "text": [
      "Welcome to our voting program.\n"
     ]
    }
   ],
   "source": [
    "if age >= 18:\n",
    "    print('Welcome to our voting program.')\n",
    "else:\n",
    "    print('You aren\\'t old enough to vote.')"
   ]
  }
 ],
 "metadata": {
  "kernelspec": {
   "display_name": "Python 3",
   "language": "python",
   "name": "python3"
  },
  "language_info": {
   "codemirror_mode": {
    "name": "ipython",
    "version": 3
   },
   "file_extension": ".py",
   "mimetype": "text/x-python",
   "name": "python",
   "nbconvert_exporter": "python",
   "pygments_lexer": "ipython3",
   "version": "3.8.10"
  }
 },
 "nbformat": 4,
 "nbformat_minor": 5
}
