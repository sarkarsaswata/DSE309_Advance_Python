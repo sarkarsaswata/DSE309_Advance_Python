{
 "cells": [
  {
   "cell_type": "markdown",
   "metadata": {},
   "source": [
    "# Saswata Sarkar 19279 \n",
    "# Department of Data Science Engineering"
   ]
  },
  {
   "cell_type": "markdown",
   "metadata": {},
   "source": [
    "## Assignment 2 \n",
    "### Due Date: 26 September 2021, Sunday, 11.00 am"
   ]
  },
  {
   "cell_type": "markdown",
   "metadata": {},
   "source": [
    "### Example: Basic Numpy\n",
    "\n",
    "(1) Create a NumPy array with the integers from your birthdate (year,\n",
    "    month, and day)\n",
    "\n",
    "(2) Retrieve the year.\n",
    "\n",
    "(3) Replace the year with the current year.\n",
    "\n",
    "(4) Create a NumPy array containing every 3rd number from 567 to 890. What is the 8th number in this array?  What is the 15th?"
   ]
  },
  {
   "cell_type": "code",
   "execution_count": 1,
   "metadata": {},
   "outputs": [],
   "source": [
    "import numpy as np"
   ]
  },
  {
   "cell_type": "code",
   "execution_count": 2,
   "metadata": {},
   "outputs": [],
   "source": [
    "# 1\n",
    "a = np.array([1986, 12, 24])"
   ]
  },
  {
   "cell_type": "code",
   "execution_count": 3,
   "metadata": {},
   "outputs": [
    {
     "data": {
      "text/plain": [
       "1986"
      ]
     },
     "execution_count": 3,
     "metadata": {},
     "output_type": "execute_result"
    }
   ],
   "source": [
    "# 2\n",
    "a[0]"
   ]
  },
  {
   "cell_type": "code",
   "execution_count": 4,
   "metadata": {},
   "outputs": [],
   "source": [
    "# 3\n",
    "a[0] = 2021"
   ]
  },
  {
   "cell_type": "code",
   "execution_count": 5,
   "metadata": {},
   "outputs": [
    {
     "data": {
      "text/plain": [
       "array([567, 570, 573, 576, 579, 582, 585, 588, 591, 594, 597, 600, 603,\n",
       "       606, 609, 612, 615, 618, 621, 624, 627, 630, 633, 636, 639, 642,\n",
       "       645, 648, 651, 654, 657, 660, 663, 666, 669, 672, 675, 678, 681,\n",
       "       684, 687, 690, 693, 696, 699, 702, 705, 708, 711, 714, 717, 720,\n",
       "       723, 726, 729, 732, 735, 738, 741, 744, 747, 750, 753, 756, 759,\n",
       "       762, 765, 768, 771, 774, 777, 780, 783, 786, 789, 792, 795, 798,\n",
       "       801, 804, 807, 810, 813, 816, 819, 822, 825, 828, 831, 834, 837,\n",
       "       840, 843, 846, 849, 852, 855, 858, 861, 864, 867, 870, 873, 876,\n",
       "       879, 882, 885, 888])"
      ]
     },
     "execution_count": 5,
     "metadata": {},
     "output_type": "execute_result"
    }
   ],
   "source": [
    "# 4\n",
    "a = np.arange(567, 890, 3)\n",
    "a"
   ]
  },
  {
   "cell_type": "code",
   "execution_count": 6,
   "metadata": {},
   "outputs": [
    {
     "data": {
      "text/plain": [
       "591"
      ]
     },
     "execution_count": 6,
     "metadata": {},
     "output_type": "execute_result"
    }
   ],
   "source": [
    "a[8]"
   ]
  },
  {
   "cell_type": "code",
   "execution_count": 7,
   "metadata": {},
   "outputs": [
    {
     "data": {
      "text/plain": [
       "612"
      ]
     },
     "execution_count": 7,
     "metadata": {},
     "output_type": "execute_result"
    }
   ],
   "source": [
    "a[15]"
   ]
  },
  {
   "cell_type": "markdown",
   "metadata": {},
   "source": [
    "### Exercise 1 Basic Numpy\n",
    "\n",
    "(1) Create an array of 10 random integers, from 0-100.\n",
    "\n",
    "(2) Find the mean and standard deviation of these numbers.  \n",
    "\n",
    "(3) Create another array of 10 random integers, from 0-100.\n",
    "\n",
    "(4) Create a new array whose elements are the average of those from\n",
    "    each of the previous ones.  \n",
    "\n",
    "(5) Create an array of 10 random floats, from 0-100.\n",
    "\n",
    "(6) We would expect the mean to be approaximately 50.  Is it?  What's\n",
    "    the standard deviation?\n",
    "\n",
    "(7) What are the min and max values?"
   ]
  },
  {
   "cell_type": "code",
   "execution_count": 8,
   "metadata": {},
   "outputs": [
    {
     "name": "stdout",
     "output_type": "stream",
     "text": [
      "The randomly generated array is with 10 integers is:  [86  3 57  3 34 26  3 24 39 64]\n"
     ]
    }
   ],
   "source": [
    "#1\n",
    "a = np.random.randint(0,101,10)\n",
    "print(\"The randomly generated array is with 10 integers is: \", a)"
   ]
  },
  {
   "cell_type": "code",
   "execution_count": 9,
   "metadata": {},
   "outputs": [
    {
     "name": "stdout",
     "output_type": "stream",
     "text": [
      "The mean and the standard deviation of the array are 33.9 and 26.841944787961992 respectively.\n"
     ]
    }
   ],
   "source": [
    "#2\n",
    "print(f\"The mean and the standard deviation of the array are {a.mean()} and {a.std()} respectively.\")"
   ]
  },
  {
   "cell_type": "code",
   "execution_count": 10,
   "metadata": {},
   "outputs": [
    {
     "name": "stdout",
     "output_type": "stream",
     "text": [
      "The other randomly generated array with 10 integers is:  [18 11 99 93 60 85 62 97 41 57]\n"
     ]
    }
   ],
   "source": [
    "#3\n",
    "b = np.random.randint(0,101,10)\n",
    "print(\"The other randomly generated array with 10 integers is: \", b)"
   ]
  },
  {
   "cell_type": "code",
   "execution_count": 11,
   "metadata": {},
   "outputs": [
    {
     "name": "stdout",
     "output_type": "stream",
     "text": [
      "The new array is [52.   7.  78.  48.  47.  55.5 32.5 60.5 40.  60.5] whose elements are the average of those from each of the previous ones.\n"
     ]
    }
   ],
   "source": [
    "#4\n",
    "c = (a+b)/2\n",
    "print(f\"The new array is {c} whose elements are the average of those from each of the previous ones.\")"
   ]
  },
  {
   "cell_type": "code",
   "execution_count": 12,
   "metadata": {},
   "outputs": [
    {
     "name": "stdout",
     "output_type": "stream",
     "text": [
      "The randomly generated array with 10 float numbers is:\n",
      " [17.09043106 40.72745841  4.48343054 51.92972226 67.58891032 50.68575057\n",
      "  3.8072286   0.83421379 13.12742616 13.3079046 ]\n"
     ]
    }
   ],
   "source": [
    "#5\n",
    "f = np.random.uniform(0.0, 100.00000001,10)\n",
    "print(\"The randomly generated array with 10 float numbers is:\\n\", f)"
   ]
  },
  {
   "cell_type": "code",
   "execution_count": 13,
   "metadata": {},
   "outputs": [
    {
     "name": "stdout",
     "output_type": "stream",
     "text": [
      "The mean of 'f' is not 50, but it is 26.358247630330887.\n",
      "The standard deviation of 'f' is 22.851609083823266.\n"
     ]
    }
   ],
   "source": [
    "#6\n",
    "if f.mean() == 50: #check if the mean of array 'f' is 50 or not.\n",
    "    print(\"The mean of 'f' is 50.\")\n",
    "else:\n",
    "    print(f\"The mean of 'f' is not 50, but it is {f.mean()}.\")\n",
    "print(f\"The standard deviation of 'f' is {f.std()}.\")"
   ]
  },
  {
   "cell_type": "code",
   "execution_count": 14,
   "metadata": {},
   "outputs": [
    {
     "name": "stdout",
     "output_type": "stream",
     "text": [
      "The maximum and minimum values of the array \n",
      " [17.09043106 40.72745841  4.48343054 51.92972226 67.58891032 50.68575057\n",
      "  3.8072286   0.83421379 13.12742616 13.3079046 ] \n",
      " is 67.5889103158021 and 0.8342137855891877 respectively.\n"
     ]
    }
   ],
   "source": [
    "#7\n",
    "print(f\"The maximum and minimum values of the array \\n {f} \\n is {f.max()} and {f.min()} respectively.\")"
   ]
  },
  {
   "cell_type": "markdown",
   "metadata": {},
   "source": [
    "### Exercise 2 Indexing\n",
    "\n",
    "(1) Create an array of 20 random integers from 0 to 100.\n",
    "\n",
    "(2) Find the largest even number.\n",
    "\n",
    "(3) Find the mean of the odd numbers.\n",
    "\n",
    "(4) Create a NumPy array from the first and last odd numbers.\n",
    "\n",
    "(5) Create an array of 20 floats from 0-1,000.\n",
    "\n",
    "(6) Find the items that are less than the mean.\n",
    "\n",
    "(7) Find the items less than mean-std."
   ]
  },
  {
   "cell_type": "code",
   "execution_count": 15,
   "metadata": {},
   "outputs": [
    {
     "name": "stdout",
     "output_type": "stream",
     "text": [
      "The randomly generated array is  [38 33 45 53 10 59 35 37 62 97 99 98 28 84 54  5 32 48 49 70]\n"
     ]
    }
   ],
   "source": [
    "#1\n",
    "a = np.random.randint(0,101,20)\n",
    "print(\"The randomly generated array is \", a)"
   ]
  },
  {
   "cell_type": "code",
   "execution_count": 16,
   "metadata": {},
   "outputs": [
    {
     "name": "stdout",
     "output_type": "stream",
     "text": [
      "The largest even number in the array [38 33 45 53 10 59 35 37 62 97 99 98 28 84 54  5 32 48 49 70] is 98.\n"
     ]
    }
   ],
   "source": [
    "#2\n",
    "even = np.array([x for x in a if x%2==0])\n",
    "print(f\"The largest even number in the array {a} is {even.max()}.\")"
   ]
  },
  {
   "cell_type": "code",
   "execution_count": 17,
   "metadata": {},
   "outputs": [
    {
     "name": "stdout",
     "output_type": "stream",
     "text": [
      "The mean of the odd numbers in [38 33 45 53 10 59 35 37 62 97 99 98 28 84 54  5 32 48 49 70] is 51.2\n"
     ]
    }
   ],
   "source": [
    "#3\n",
    "odd = np.array([x for x in a if x%2 != 0])\n",
    "print(f\"The mean of the odd numbers in {a} is {odd.mean()}\")"
   ]
  },
  {
   "cell_type": "code",
   "execution_count": 18,
   "metadata": {},
   "outputs": [
    {
     "name": "stdout",
     "output_type": "stream",
     "text": [
      "The array generated with the elemnts between the first and last odd number of\n",
      "[38 33 45 53 10 59 35 37 62 97 99 98 28 84 54  5 32 48 49 70] is \n",
      " [ 5  6  7  8  9 10 11 12 13 14 15 16 17 18 19 20 21 22 23 24 25 26 27 28\n",
      " 29 30 31 32 33 34 35 36 37 38 39 40 41 42 43 44 45 46 47 48 49 50 51 52\n",
      " 53 54 55 56 57 58 59 60 61 62 63 64 65 66 67 68 69 70 71 72 73 74 75 76\n",
      " 77 78 79 80 81 82 83 84 85 86 87 88 89 90 91 92 93 94 95 96 97 98].\n"
     ]
    }
   ],
   "source": [
    "#4\n",
    "odd.sort()\n",
    "odds = np.arange(odd[0], odd[-1])\n",
    "print(f\"The array generated with the elemnts between the first and last odd number of\\n{a} is \\n {odds}.\")"
   ]
  },
  {
   "cell_type": "code",
   "execution_count": 19,
   "metadata": {},
   "outputs": [
    {
     "name": "stdout",
     "output_type": "stream",
     "text": [
      "The randomly generated array with 10 float numbers is:\n",
      " [441.02392172 120.0861329  798.13388435 882.66880664 923.61198308\n",
      " 803.55850479 265.20837639 595.90404217 188.69680406 447.43735064\n",
      "  52.91970644 382.30352332 138.23337035 393.57339058 794.42257223\n",
      " 619.44078216 840.66122349 343.88952502 578.92759037 113.5826894 ]\n"
     ]
    }
   ],
   "source": [
    "#5\n",
    "f = np.random.uniform(0.0, 1000.00000001, 20)\n",
    "print(\"The randomly generated array with 10 float numbers is:\\n\", f)"
   ]
  },
  {
   "cell_type": "code",
   "execution_count": 20,
   "metadata": {},
   "outputs": [
    {
     "name": "stdout",
     "output_type": "stream",
     "text": [
      "The items that are less than the mean 486.2142090044505 is [441.02392172 120.0861329  265.20837639 188.69680406 447.43735064\n",
      "  52.91970644 382.30352332 138.23337035 393.57339058 343.88952502\n",
      " 113.5826894 ].\n"
     ]
    }
   ],
   "source": [
    "#6\n",
    "less = np.array([x for x in f if x < f.mean()])\n",
    "print(f\"The items that are less than the mean {f.mean()} is {less}.\")"
   ]
  },
  {
   "cell_type": "code",
   "execution_count": 21,
   "metadata": {},
   "outputs": [
    {
     "name": "stdout",
     "output_type": "stream",
     "text": [
      "The items that are less than the difference between the mean and standard deviation of the array \n",
      " [441.02392172 120.0861329  798.13388435 882.66880664 923.61198308\n",
      " 803.55850479 265.20837639 595.90404217 188.69680406 447.43735064\n",
      "  52.91970644 382.30352332 138.23337035 393.57339058 794.42257223\n",
      " 619.44078216 840.66122349 343.88952502 578.92759037 113.5826894 ] is [120.0861329  188.69680406  52.91970644 138.23337035 113.5826894 ]\n"
     ]
    }
   ],
   "source": [
    "#7\n",
    "mean_std = np.array([x for x in f if x < (f.mean() - f.std())])\n",
    "print(f\"The items that are less than the difference between the mean and standard deviation of the array \\n {f} is {mean_std}\")"
   ]
  },
  {
   "cell_type": "markdown",
   "metadata": {},
   "source": [
    "### Exercise 3 More indexing\n",
    "\n",
    "(1) Create a NumPy array of 20 random integers from 0-100.\n",
    "\n",
    "(2) What's the smallest even number greater than the mean?\n",
    "\n",
    "(3) Show all numbers either < mean-std OR > mean+std.\n",
    "\n",
    "(4) Show odd numbers < mean and even numbers > mean."
   ]
  },
  {
   "cell_type": "code",
   "execution_count": 22,
   "metadata": {},
   "outputs": [
    {
     "name": "stdout",
     "output_type": "stream",
     "text": [
      "The randomly generated array is  [73 83 94 69 76 21 31 48 67 77 78  7 55 14 61 57  3 49 66 16]\n"
     ]
    }
   ],
   "source": [
    "#1\n",
    "a = np.random.randint(0,101,20)\n",
    "print(\"The randomly generated array is \", a)"
   ]
  },
  {
   "cell_type": "code",
   "execution_count": 23,
   "metadata": {},
   "outputs": [
    {
     "name": "stdout",
     "output_type": "stream",
     "text": [
      "The smallest even number that is greater than the menan is 66.\n"
     ]
    }
   ],
   "source": [
    "#2\n",
    "even = np.array([x for x in a if x%2 == 0 and  x > a.mean()])\n",
    "print(f\"The smallest even number that is greater than the menan is {even.min()}.\")"
   ]
  },
  {
   "cell_type": "code",
   "execution_count": 24,
   "metadata": {},
   "outputs": [
    {
     "name": "stdout",
     "output_type": "stream",
     "text": [
      "The numbers whicha are either less than (mean-std) OR greater than (mean+std) are the following:  [83 94 21  7 14  3 16]\n"
     ]
    }
   ],
   "source": [
    "#3\n",
    "m, s = a.mean(), a.std()\n",
    "b = np.array([x for x in a if x < (m-s) or x > (m+s)])\n",
    "print(\"The numbers whicha are either less than (mean-std) OR greater than (mean+std) are the following: \", b)"
   ]
  },
  {
   "cell_type": "code",
   "execution_count": 25,
   "metadata": {},
   "outputs": [
    {
     "name": "stdout",
     "output_type": "stream",
     "text": [
      "The odd numbers which are less than the mean is the following:  [21 31  7  3 49]\n",
      "The even numbers which are greater than the mean is the following:  [94 76 78 66]\n"
     ]
    }
   ],
   "source": [
    "#4\n",
    "odd = np.array([x for x in a if x%2 != 0 and  x < a.mean()])\n",
    "print(\"The odd numbers which are less than the mean is the following: \", odd)\n",
    "even = np.array([x for x in a if x%2 == 0 and  x > a.mean()])\n",
    "print(\"The even numbers which are greater than the mean is the following: \", even)"
   ]
  },
  {
   "cell_type": "markdown",
   "metadata": {},
   "source": [
    "### Exercise 4 Assigning via indexes\n",
    "\n",
    "(1) Create a NumPy array of 40 random integers, from 0-100.\n",
    "\n",
    "(2) Find all numbers that are within 1 standard deviation of the mean,\n",
    "    and set them to be equal to the mean.  Has the mean changed?  Has\n",
    "    the std changed?\n",
    "\n",
    "(3) Create another NumPy array of 10 random integers, from 0-100.\n",
    "\n",
    "(4) Set the item at the even indexes to be equal to the items at the odd\n",
    "    indexes.  So index 0 will get the value at index 1, etc.\n"
   ]
  },
  {
   "cell_type": "code",
   "execution_count": 26,
   "metadata": {},
   "outputs": [
    {
     "name": "stdout",
     "output_type": "stream",
     "text": [
      "The randomly generated array is  [ 56  84  75  22  81  27  32  67   5  62  93  84  35  35  68  33  33  11\n",
      "   0  92  44 100  44   4  73  41  13  82  71  81   2  35  31  18   4  78\n",
      "  47  30  52  96]\n"
     ]
    }
   ],
   "source": [
    "#1\n",
    "a = np.random.randint(0, 101, 40)\n",
    "prev_mean, prev_std = m,s = a.mean(), a.std()\n",
    "print(\"The randomly generated array is \", a)"
   ]
  },
  {
   "cell_type": "code",
   "execution_count": 27,
   "metadata": {},
   "outputs": [
    {
     "name": "stdout",
     "output_type": "stream",
     "text": [
      "The mean has changed from 48.525 to 48.85.\n",
      "The standard deviation has changed from 29.733808619145982 to 26.693210747304263.\n"
     ]
    }
   ],
   "source": [
    "#2\n",
    "a[(a<m+s) & (a>m-s)]=a.mean()\n",
    "if prev_mean != a.mean():\n",
    "    print(f\"The mean has changed from {prev_mean} to {a.mean()}.\")\n",
    "else:\n",
    "    print(\"The mean has not changed.\")\n",
    "if prev_std != a.std():\n",
    "    print(f\"The standard deviation has changed from {prev_std} to {a.std()}.\")\n",
    "else:\n",
    "    print(\"standard deviation has not changed.\")"
   ]
  },
  {
   "cell_type": "code",
   "execution_count": 28,
   "metadata": {},
   "outputs": [
    {
     "name": "stdout",
     "output_type": "stream",
     "text": [
      "The other randomly generated array with 10 integers is:  [61 58 72 57 76  6 51  4 16 87]\n"
     ]
    }
   ],
   "source": [
    "#3\n",
    "b = np.random.randint(0,101,10)\n",
    "print(\"The other randomly generated array with 10 integers is: \", b)"
   ]
  },
  {
   "cell_type": "code",
   "execution_count": 29,
   "metadata": {},
   "outputs": [
    {
     "name": "stdout",
     "output_type": "stream",
     "text": [
      "The newly formed array is:  [58 58 57 57  6  6  4  4 87 87]\n"
     ]
    }
   ],
   "source": [
    "#4\n",
    "for i in range(0, len(b), 2):\n",
    "    b[i] = b[i+1]\n",
    "print(\"The newly formed array is: \", b)"
   ]
  },
  {
   "cell_type": "markdown",
   "metadata": {},
   "source": [
    "### Exercise 5 Data types\n",
    "\n",
    "(1) Create a NumPy array of 10 random integers from 0-100.\n",
    "\n",
    "(2) Calculate the mean, which will be a float.\n",
    "\n",
    "(3) Create an array of type float based on it, and replace the\n",
    "    outliers (i.e., <mean-std or >mean+std) with the mean.\n",
    "\n",
    "(4) Create a NumPy array of 20 random floats from 0-100.\n",
    "\n",
    "(5) Replace those numbers whose int portion is even with the mean.\n",
    "    (So 20.5 would be replaced, but 21.5 would not be.)"
   ]
  },
  {
   "cell_type": "code",
   "execution_count": 30,
   "metadata": {},
   "outputs": [
    {
     "name": "stdout",
     "output_type": "stream",
     "text": [
      "The randomly generated array is  [12 87 78 13 60 96 23 63 68 23]\n"
     ]
    }
   ],
   "source": [
    "#1\n",
    "a = np.random.randint(0, 101, 10)\n",
    "print(\"The randomly generated array is \", a)"
   ]
  },
  {
   "cell_type": "code",
   "execution_count": 31,
   "metadata": {},
   "outputs": [
    {
     "name": "stdout",
     "output_type": "stream",
     "text": [
      "The mean of the array [12 87 78 13 60 96 23 63 68 23] is 52.3\n"
     ]
    }
   ],
   "source": [
    "#2\n",
    "print(f\"The mean of the array {a} is {round((a.mean()),2)}\")"
   ]
  },
  {
   "cell_type": "code",
   "execution_count": 32,
   "metadata": {},
   "outputs": [
    {
     "name": "stdout",
     "output_type": "stream",
     "text": [
      "The array after replacing the outliers is:  [65.08010907 36.25087584 64.25451319 66.6241514  75.11625878 62.06096631\n",
      " 76.72741925]\n"
     ]
    }
   ],
   "source": [
    "#3\n",
    "b = np.random.normal(a.mean(), a.std(), 10)\n",
    "b = np.array([x for x in b if ((x<b.mean()+b.std()) and (x>b.mean()-b.std()))])\n",
    "print(\"The array after replacing the outliers is: \", b)"
   ]
  },
  {
   "cell_type": "code",
   "execution_count": 33,
   "metadata": {},
   "outputs": [
    {
     "name": "stdout",
     "output_type": "stream",
     "text": [
      "The random float number array is:\n",
      " [21.3772915   0.6219973  60.77841761 90.17553468 77.73657994 41.27949539\n",
      " 23.61402578 33.61356549 15.25211246 26.20444176  8.23032773 95.54444318\n",
      "  7.17875781 92.23042727 34.99052792 13.34900169 68.82426642 23.24925272\n",
      "  0.1725162  50.83498998]\n"
     ]
    }
   ],
   "source": [
    "#4\n",
    "f = np.random.uniform(0.0, 100.000000001, 20)\n",
    "print(\"The random float number array is:\\n\", f)"
   ]
  },
  {
   "cell_type": "code",
   "execution_count": 34,
   "metadata": {},
   "outputs": [
    {
     "name": "stdout",
     "output_type": "stream",
     "text": [
      "The array after the changes is:\n",
      " [21.3772915  39.26289864 39.26289864 39.26289864 77.73657994 41.27949539\n",
      " 23.61402578 33.61356549 15.25211246 39.26289864 39.26289864 95.54444318\n",
      "  7.17875781 39.26289864 39.26289864 13.34900169 39.26289864 23.24925272\n",
      " 39.26289864 39.26289864]\n"
     ]
    }
   ],
   "source": [
    "#5\n",
    "mean_f = f.mean()\n",
    "for i in range(len(f)):\n",
    "    if int(f[i])%2 == 0:\n",
    "        f[i] = mean_f\n",
    "print(\"The array after the changes is:\\n\", f)"
   ]
  },
  {
   "cell_type": "markdown",
   "metadata": {},
   "source": [
    "### Exercise 6 nan\n",
    "\n",
    "(1) Create a NumPy array of 30 random ints from 0-1000.\n",
    "\n",
    "(2) Find the numbers that are <mean-std or >mean+std, and set them to\n",
    "    be nan\n",
    "\n",
    "(3) Now change those nan values to be the mean of the array's\n",
    "    elements."
   ]
  },
  {
   "cell_type": "code",
   "execution_count": 35,
   "metadata": {},
   "outputs": [
    {
     "name": "stdout",
     "output_type": "stream",
     "text": [
      "The randomly generated array is:\n",
      " [308  87 279 625 858 620 913 167 668 118 514 117 781  25 554 631 548 310\n",
      " 526 269 656 117 893 500 816 396 546 630 355 292]\n"
     ]
    }
   ],
   "source": [
    "#1\n",
    "a = np.random.randint(0,1001,30)\n",
    "print(\"The randomly generated array is:\\n\", a)"
   ]
  },
  {
   "cell_type": "code",
   "execution_count": 36,
   "metadata": {},
   "outputs": [
    {
     "name": "stdout",
     "output_type": "stream",
     "text": [
      "The array after setting replacing values with nan:\n",
      " [ nan  87.  nan  nan 858.  nan 913. 167.  nan 118.  nan 117. 781.  25.\n",
      "  nan  nan  nan  nan  nan  nan  nan 117. 893.  nan 816.  nan  nan  nan\n",
      "  nan  nan]\n"
     ]
    }
   ],
   "source": [
    "#2\n",
    "m, s = a.mean(), a.std()\n",
    "a = np.array([np.NaN if ((x<m+s) and (x>m-s)) else x for x in a])\n",
    "print(\"The array after setting replacing values with nan:\\n\", a)"
   ]
  },
  {
   "cell_type": "code",
   "execution_count": 37,
   "metadata": {},
   "outputs": [
    {
     "name": "stdout",
     "output_type": "stream",
     "text": [
      "The array after replacing nan values with the mean:\n",
      " [444.72727273  87.         444.72727273 444.72727273 858.\n",
      " 444.72727273 913.         167.         444.72727273 118.\n",
      " 444.72727273 117.         781.          25.         444.72727273\n",
      " 444.72727273 444.72727273 444.72727273 444.72727273 444.72727273\n",
      " 444.72727273 117.         893.         444.72727273 816.\n",
      " 444.72727273 444.72727273 444.72727273 444.72727273 444.72727273]\n"
     ]
    }
   ],
   "source": [
    "for i in np.where(np.isnan(a)):\n",
    "    a[i] = np.nanmean(a)\n",
    "print(\"The array after replacing nan values with the mean:\\n\", a)"
   ]
  },
  {
   "cell_type": "markdown",
   "metadata": {},
   "source": [
    "### Exercise 7 Multidimensional NumPy\n",
    "\n",
    "(1) Create a 2-dimensional NumPy array of 45 random integers, from 0-100.\n",
    "\n",
    "(2) Retrieve the elements at row index 2.\n",
    "\n",
    "(3) Retrieve the elements at column index 3.\n",
    "\n",
    "(4) Retrieve the elements at row indexes 1 and 4.\n",
    "\n",
    "(5) Retrieve the elements at column indexes 1 and 4.\n",
    "\n",
    "(6) Get the mean of the even numbers in row index 4.\n",
    "\n",
    "(7) Get the mean of the odd numbers in column index 4."
   ]
  },
  {
   "cell_type": "code",
   "execution_count": 38,
   "metadata": {},
   "outputs": [
    {
     "name": "stdout",
     "output_type": "stream",
     "text": [
      "The two-dimensional NumPy array is:\n",
      " [[32 57 70 14 71 52 97 56 32]\n",
      " [83 18 95 73 80 82 32 63 58]\n",
      " [80 69 76 75  5 72 60 87 66]\n",
      " [57 56 66 10 44 89 41 17  8]\n",
      " [46 70 74 17 73 33  1 20 16]]\n"
     ]
    }
   ],
   "source": [
    "#1\n",
    "a = np.random.randint(0, 100, [5,9])\n",
    "print(\"The two-dimensional NumPy array is:\\n\", a)"
   ]
  },
  {
   "cell_type": "code",
   "execution_count": 39,
   "metadata": {},
   "outputs": [
    {
     "name": "stdout",
     "output_type": "stream",
     "text": [
      "The elements at row index 2 are:  [80 69 76 75  5 72 60 87 66]\n"
     ]
    }
   ],
   "source": [
    "#2\n",
    "print(\"The elements at row index 2 are: \", a[2])"
   ]
  },
  {
   "cell_type": "code",
   "execution_count": 40,
   "metadata": {},
   "outputs": [
    {
     "name": "stdout",
     "output_type": "stream",
     "text": [
      "The elements at column index 3 are:  [14 73 75 10 17]\n"
     ]
    }
   ],
   "source": [
    "#3\n",
    "print(\"The elements at column index 3 are: \", a[:,3])"
   ]
  },
  {
   "cell_type": "code",
   "execution_count": 41,
   "metadata": {},
   "outputs": [
    {
     "name": "stdout",
     "output_type": "stream",
     "text": [
      "The elements at row indexes 1 and 4 are:\n",
      " [[83 18 95 73 80 82 32 63 58]\n",
      " [46 70 74 17 73 33  1 20 16]]\n"
     ]
    }
   ],
   "source": [
    "#4\n",
    "print(\"The elements at row indexes 1 and 4 are:\\n\", a[[1,4]])"
   ]
  },
  {
   "cell_type": "code",
   "execution_count": 42,
   "metadata": {},
   "outputs": [
    {
     "name": "stdout",
     "output_type": "stream",
     "text": [
      "The elements at column indexes 1 and 4 are:\n",
      " [[57 71]\n",
      " [18 80]\n",
      " [69  5]\n",
      " [56 44]\n",
      " [70 73]]\n"
     ]
    }
   ],
   "source": [
    "#5\n",
    "print(\"The elements at column indexes 1 and 4 are:\\n\", a[:,[1,4]])"
   ]
  },
  {
   "cell_type": "code",
   "execution_count": 43,
   "metadata": {},
   "outputs": [
    {
     "name": "stdout",
     "output_type": "stream",
     "text": [
      "The mean of the even numbers in row index 4 is:  45.2\n"
     ]
    }
   ],
   "source": [
    "#6\n",
    "even = np.array([x for x in a[4] if x%2==0])\n",
    "print(\"The mean of the even numbers in row index 4 is: \", even.mean())"
   ]
  },
  {
   "cell_type": "code",
   "execution_count": 44,
   "metadata": {},
   "outputs": [
    {
     "name": "stdout",
     "output_type": "stream",
     "text": [
      "The mean of the odd numbers in row index 4 is:  31.0\n"
     ]
    }
   ],
   "source": [
    "#7\n",
    "odd = np.array([x for x in a[4] if x%2!=0])\n",
    "print(\"The mean of the odd numbers in row index 4 is: \", odd.mean())"
   ]
  },
  {
   "cell_type": "markdown",
   "metadata": {},
   "source": [
    "### Exercise 8 More Multidimensional\n",
    "\n",
    "(1) Create a 6x6 NumPy array with random integers from 0-100.\n",
    "\n",
    "(2) What is the mean of each column?\n",
    "\n",
    "(3) Replace all even numbers in the array with twice their values. (So\n",
    "    20 will become 40, and 40 will become 80.)\n",
    "\n",
    "(4) Once again, calculate the mean of each column\n",
    "\n",
    "(5) Now transpose the array and calculate the mean of each row.  Is it\n",
    "    the same as you got before?\n",
    "\n",
    "(6) Now sort each of the columns in the transposed array.  What does\n",
    "    it look like now?"
   ]
  },
  {
   "cell_type": "code",
   "execution_count": 45,
   "metadata": {},
   "outputs": [
    {
     "name": "stdout",
     "output_type": "stream",
     "text": [
      "The 6x6 NumPy array with random integers from 0-100 is:\n",
      " [[81 40 94 58 72 22]\n",
      " [42 79  4 94 67 36]\n",
      " [75  8 19 14 66 24]\n",
      " [77 96 22 37 35 97]\n",
      " [ 2 54  5 72 91 23]\n",
      " [ 1 96  2 44 14 97]]\n"
     ]
    }
   ],
   "source": [
    "#1\n",
    "a = np.random.randint(0, 101, [6,6])\n",
    "print(\"The 6x6 NumPy array with random integers from 0-100 is:\\n\", a)"
   ]
  },
  {
   "cell_type": "code",
   "execution_count": 46,
   "metadata": {},
   "outputs": [
    {
     "name": "stdout",
     "output_type": "stream",
     "text": [
      "The mean of column with index 0 is: 46.333333333333336\n",
      "The mean of column with index 1 is: 62.166666666666664\n",
      "The mean of column with index 2 is: 24.333333333333332\n",
      "The mean of column with index 3 is: 53.166666666666664\n",
      "The mean of column with index 4 is: 57.5\n",
      "The mean of column with index 5 is: 49.833333333333336\n"
     ]
    }
   ],
   "source": [
    "#2\n",
    "for i in range(6):\n",
    "    print(f\"The mean of column with index {i} is: {a[:,i].mean()}\")"
   ]
  },
  {
   "cell_type": "code",
   "execution_count": 47,
   "metadata": {},
   "outputs": [
    {
     "name": "stdout",
     "output_type": "stream",
     "text": [
      "[[ 81  80 188 116 144  44]\n",
      " [ 84  79   8 188  67  72]\n",
      " [ 75  16  19  28 132  48]\n",
      " [ 77 192  44  37  35  97]\n",
      " [  4 108   5 144  91  23]\n",
      " [  1 192   4  88  28  97]]\n"
     ]
    }
   ],
   "source": [
    "#3\n",
    "a_new = np.where(a%2==0, a*2, a)\n",
    "print(a_new)"
   ]
  },
  {
   "cell_type": "code",
   "execution_count": 48,
   "metadata": {},
   "outputs": [
    {
     "name": "stdout",
     "output_type": "stream",
     "text": [
      "The mean of column with index 0 is in the new array is: 53.666666666666664\n",
      "The mean of column with index 1 is in the new array is: 111.16666666666667\n",
      "The mean of column with index 2 is in the new array is: 44.666666666666664\n",
      "The mean of column with index 3 is in the new array is: 100.16666666666667\n",
      "The mean of column with index 4 is in the new array is: 82.83333333333333\n",
      "The mean of column with index 5 is in the new array is: 63.5\n"
     ]
    }
   ],
   "source": [
    "#4\n",
    "for i in range(6):\n",
    "    print(f\"The mean of column with index {i} is in the new array is: {a_new[:,i].mean()}\")"
   ]
  },
  {
   "cell_type": "code",
   "execution_count": 49,
   "metadata": {},
   "outputs": [
    {
     "name": "stdout",
     "output_type": "stream",
     "text": [
      "The mean of row with index 0 is: 46.333333333333336\n",
      "The mean of row with index 1 is: 62.166666666666664\n",
      "The mean of row with index 2 is: 24.333333333333332\n",
      "The mean of row with index 3 is: 53.166666666666664\n",
      "The mean of row with index 4 is: 57.5\n",
      "The mean of row with index 5 is: 49.833333333333336\n"
     ]
    }
   ],
   "source": [
    "#5\n",
    "a_T = a.T\n",
    "for i in range(6):\n",
    "    print(f\"The mean of row with index {i} is: {a_T[i].mean()}\")\n",
    "#The result will be identical to the part_2 as the multidimensional arrayy or matrix is now transposed.\n",
    "#Hence the new row is the old columns of the matrix\n",
    "#Therefore, the mean will remain unaltered"
   ]
  },
  {
   "cell_type": "code",
   "execution_count": 50,
   "metadata": {},
   "outputs": [
    {
     "name": "stdout",
     "output_type": "stream",
     "text": [
      "The sorted transposed array looks like the following:\n",
      " [[22  4  8 22  2  1]\n",
      " [40 36 14 35  5  2]\n",
      " [58 42 19 37 23 14]\n",
      " [72 67 24 77 54 44]\n",
      " [81 79 66 96 72 96]\n",
      " [94 94 75 97 91 97]]\n"
     ]
    }
   ],
   "source": [
    "#6\n",
    "print(\"The sorted transposed array looks like the following:\\n\", \n",
    "      a_T[a_T.argsort(axis=0), np.arange(a_T.argsort(axis=0).shape[1])])"
   ]
  }
 ],
 "metadata": {
  "kernelspec": {
   "display_name": "Python 3 (ipykernel)",
   "language": "python",
   "name": "python3"
  },
  "language_info": {
   "codemirror_mode": {
    "name": "ipython",
    "version": 3
   },
   "file_extension": ".py",
   "mimetype": "text/x-python",
   "name": "python",
   "nbconvert_exporter": "python",
   "pygments_lexer": "ipython3",
   "version": "3.8.11"
  }
 },
 "nbformat": 4,
 "nbformat_minor": 4
}
