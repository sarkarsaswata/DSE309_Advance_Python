{
 "cells": [
  {
   "cell_type": "markdown",
   "id": "ff68cdd8",
   "metadata": {},
   "source": [
    "# SASWATA SARKAR 19279"
   ]
  },
  {
   "cell_type": "markdown",
   "id": "91d62a34",
   "metadata": {
    "id": "RzLmQwmm0NqH"
   },
   "source": [
    "# Exercise 1: Working with Python Lists"
   ]
  },
  {
   "cell_type": "markdown",
   "id": "cc5b52e6",
   "metadata": {},
   "source": [
    "## 1."
   ]
  },
  {
   "cell_type": "code",
   "execution_count": 28,
   "id": "7560009c",
   "metadata": {
    "colab": {
     "base_uri": "https://localhost:8080/"
    },
    "id": "Yo0ZsCT4xnAU",
    "outputId": "471c2862-d2cc-46b1-c78d-2633fcd0eb9a"
   },
   "outputs": [
    {
     "name": "stdout",
     "output_type": "stream",
     "text": [
      "['bread', 'milk', 'eggs']\n"
     ]
    }
   ],
   "source": [
    "shopping = ['bread', 'milk', 'eggs']\n",
    "print(shopping)"
   ]
  },
  {
   "cell_type": "markdown",
   "id": "feb588e4",
   "metadata": {},
   "source": [
    "## 2."
   ]
  },
  {
   "cell_type": "code",
   "execution_count": 29,
   "id": "62ff7854",
   "metadata": {
    "colab": {
     "base_uri": "https://localhost:8080/"
    },
    "id": "7Ro9iDrx0JNW",
    "outputId": "99e00c37-8051-4f3f-e424-68fb1d025155"
   },
   "outputs": [
    {
     "name": "stdout",
     "output_type": "stream",
     "text": [
      "bread\n",
      "milk\n",
      "eggs\n"
     ]
    }
   ],
   "source": [
    "for item in shopping:\n",
    "  print(item)"
   ]
  },
  {
   "cell_type": "markdown",
   "id": "ee82e8e8",
   "metadata": {},
   "source": [
    "## 3."
   ]
  },
  {
   "cell_type": "code",
   "execution_count": 30,
   "id": "0517b9d6",
   "metadata": {
    "colab": {
     "base_uri": "https://localhost:8080/"
    },
    "id": "wrDHyaaM0baB",
    "outputId": "a7905bc7-a7f1-44b3-a1fe-1b38b34a8de9"
   },
   "outputs": [
    {
     "name": "stdout",
     "output_type": "stream",
     "text": [
      "[365, 'days', True]\n"
     ]
    }
   ],
   "source": [
    "mixed = [365, 'days', True]\n",
    "print(mixed)"
   ]
  },
  {
   "cell_type": "markdown",
   "id": "38b5460b",
   "metadata": {
    "id": "-EWXsj830yZO"
   },
   "source": [
    "# Exercise 2: Basic List Operations"
   ]
  },
  {
   "cell_type": "markdown",
   "id": "811dc187",
   "metadata": {},
   "source": [
    "## 1."
   ]
  },
  {
   "cell_type": "code",
   "execution_count": 31,
   "id": "e47a0ca0",
   "metadata": {
    "colab": {
     "base_uri": "https://localhost:8080/"
    },
    "id": "eu4M6N_R0v5N",
    "outputId": "269eaaff-c1e7-4e19-be8b-98dbf11ab888"
   },
   "outputs": [
    {
     "data": {
      "text/plain": [
       "3"
      ]
     },
     "execution_count": 31,
     "metadata": {},
     "output_type": "execute_result"
    }
   ],
   "source": [
    "len(shopping)"
   ]
  },
  {
   "cell_type": "markdown",
   "id": "8878de2d",
   "metadata": {},
   "source": [
    "## 2."
   ]
  },
  {
   "cell_type": "code",
   "execution_count": 32,
   "id": "a503e430",
   "metadata": {
    "colab": {
     "base_uri": "https://localhost:8080/"
    },
    "id": "dDlHWBsr08jW",
    "outputId": "983c7984-ebe2-485e-fdfa-c1e46a37942b"
   },
   "outputs": [
    {
     "name": "stdout",
     "output_type": "stream",
     "text": [
      "[1, 2, 3, 4, 5, 6]\n"
     ]
    }
   ],
   "source": [
    "list1 = [1,2,3]\n",
    "list2 = [4,5,6]\n",
    "final_list = list1+list2\n",
    "print(final_list)"
   ]
  },
  {
   "cell_type": "markdown",
   "id": "fba5e89d",
   "metadata": {},
   "source": [
    "## 3."
   ]
  },
  {
   "cell_type": "code",
   "execution_count": 33,
   "id": "759f3651",
   "metadata": {
    "colab": {
     "base_uri": "https://localhost:8080/"
    },
    "id": "S_hyFgEP1Htr",
    "outputId": "da8c7d2a-db3a-4175-c0a0-880462689a19"
   },
   "outputs": [
    {
     "name": "stdout",
     "output_type": "stream",
     "text": [
      "['iiserb', 'iiserb', 'iiserb']\n"
     ]
    }
   ],
   "source": [
    "list3 = ['iiserb']*3\n",
    "print(list3)"
   ]
  },
  {
   "cell_type": "markdown",
   "id": "b8d6ccaa",
   "metadata": {
    "id": "DN76-9mP1wUL"
   },
   "source": [
    "# Exercise 3: Accessing an Item from Shopping List Data"
   ]
  },
  {
   "cell_type": "markdown",
   "id": "02e06807",
   "metadata": {},
   "source": [
    "## 1."
   ]
  },
  {
   "cell_type": "code",
   "execution_count": 34,
   "id": "a4cdfa59",
   "metadata": {
    "colab": {
     "base_uri": "https://localhost:8080/"
    },
    "id": "DlrlE4mr1k7q",
    "outputId": "3594f64c-cfed-4f8d-cfa9-bb6c224df6e3"
   },
   "outputs": [
    {
     "name": "stdout",
     "output_type": "stream",
     "text": [
      "milk\n"
     ]
    }
   ],
   "source": [
    "print(shopping[1])"
   ]
  },
  {
   "cell_type": "markdown",
   "id": "06a6fe35",
   "metadata": {},
   "source": [
    "## 2."
   ]
  },
  {
   "cell_type": "code",
   "execution_count": 35,
   "id": "708ae661",
   "metadata": {
    "colab": {
     "base_uri": "https://localhost:8080/"
    },
    "id": "GoLY4JND2AB1",
    "outputId": "fa3bac42-6e41-48e7-be78-9182b4223539"
   },
   "outputs": [
    {
     "name": "stdout",
     "output_type": "stream",
     "text": [
      "['bread', 'banana', 'eggs']\n"
     ]
    }
   ],
   "source": [
    "shopping[1] = 'banana'\n",
    "print(shopping)"
   ]
  },
  {
   "cell_type": "markdown",
   "id": "7bc1dd5d",
   "metadata": {},
   "source": [
    "## 3."
   ]
  },
  {
   "cell_type": "code",
   "execution_count": 36,
   "id": "3bf76f0d",
   "metadata": {
    "colab": {
     "base_uri": "https://localhost:8080/"
    },
    "id": "9mCdXKIl2IpP",
    "outputId": "c18f2761-b73f-45fc-f207-324c65ed181f"
   },
   "outputs": [
    {
     "name": "stdout",
     "output_type": "stream",
     "text": [
      "eggs\n"
     ]
    }
   ],
   "source": [
    "print(shopping[-1])"
   ]
  },
  {
   "cell_type": "markdown",
   "id": "0d0cebd3",
   "metadata": {},
   "source": [
    "## 4."
   ]
  },
  {
   "cell_type": "code",
   "execution_count": 37,
   "id": "75fb33a4",
   "metadata": {
    "colab": {
     "base_uri": "https://localhost:8080/"
    },
    "id": "ZpKVM82p2Lwb",
    "outputId": "7da29368-916a-4987-8ac1-d109bd27fd3c"
   },
   "outputs": [
    {
     "name": "stdout",
     "output_type": "stream",
     "text": [
      "['bread', 'banana']\n",
      "['bread', 'banana', 'eggs']\n",
      "['banana', 'eggs']\n"
     ]
    }
   ],
   "source": [
    "print(shopping[0:2])\n",
    "print(shopping[0:3])\n",
    "print(shopping[1:3])"
   ]
  },
  {
   "cell_type": "markdown",
   "id": "9addb37f",
   "metadata": {
    "id": "GLMOwkg42tvx"
   },
   "source": [
    "# Exercise 4: Adding items to our shopping list"
   ]
  },
  {
   "cell_type": "markdown",
   "id": "8603ff03",
   "metadata": {},
   "source": [
    "## 1."
   ]
  },
  {
   "cell_type": "code",
   "execution_count": 38,
   "id": "eba8d166",
   "metadata": {
    "colab": {
     "base_uri": "https://localhost:8080/"
    },
    "id": "BRUe9GpH2iPc",
    "outputId": "739225b4-abeb-4578-aed1-75c9bff0e3ab"
   },
   "outputs": [
    {
     "name": "stdout",
     "output_type": "stream",
     "text": [
      "['bread', 'milk', 'eggs', 'apple']\n"
     ]
    }
   ],
   "source": [
    "shopping = [\"bread\",\"milk\", \"eggs\"]\n",
    "shopping.append(\"apple\")\n",
    "print(shopping)"
   ]
  },
  {
   "cell_type": "markdown",
   "id": "024e4bd6",
   "metadata": {},
   "source": [
    "## 2."
   ]
  },
  {
   "cell_type": "code",
   "execution_count": 39,
   "id": "fe7cc2bd",
   "metadata": {
    "colab": {
     "base_uri": "https://localhost:8080/"
    },
    "id": "unR3jvBj25qX",
    "outputId": "86860eb3-0fa8-4b8e-d5ab-e380d7bc9264"
   },
   "outputs": [
    {
     "name": "stdout",
     "output_type": "stream",
     "text": [
      "['bread', 'milk', 'eggs', 'apple']\n"
     ]
    }
   ],
   "source": [
    "shopping = []\n",
    "shopping.append(\"bread\")\n",
    "shopping.append(\"milk\")\n",
    "shopping.append(\"eggs\")\n",
    "shopping.append(\"apple\")\n",
    "print(shopping)"
   ]
  },
  {
   "cell_type": "markdown",
   "id": "3b01ee9e",
   "metadata": {},
   "source": [
    "## 3."
   ]
  },
  {
   "cell_type": "code",
   "execution_count": 40,
   "id": "872efdac",
   "metadata": {
    "colab": {
     "base_uri": "https://localhost:8080/"
    },
    "id": "1Yo_S8Lx3Vl2",
    "outputId": "fee4eeab-ab4d-4115-a588-ba31020adf9d"
   },
   "outputs": [
    {
     "data": {
      "text/plain": [
       "['bread', 'milk', 'ham', 'eggs', 'apple']"
      ]
     },
     "execution_count": 40,
     "metadata": {},
     "output_type": "execute_result"
    }
   ],
   "source": [
    "shopping.insert(2, 'ham')\n",
    "shopping"
   ]
  },
  {
   "cell_type": "markdown",
   "id": "50421973",
   "metadata": {
    "id": "j4Mak3AW3gg6"
   },
   "source": [
    "# Exercise 5: Using a Dictionary to Store a Movie Record"
   ]
  },
  {
   "cell_type": "code",
   "execution_count": 41,
   "id": "3682688b",
   "metadata": {
    "colab": {
     "base_uri": "https://localhost:8080/"
    },
    "id": "wIuep2vf3cwX",
    "outputId": "7cb926a1-64ff-4074-effb-e46dc05f64f6"
   },
   "outputs": [
    {
     "name": "stdout",
     "output_type": "stream",
     "text": [
      "1972\n"
     ]
    }
   ],
   "source": [
    "movie = {\n",
    "\"title\": \"The Godfather\",\n",
    "\"director\": \"Francis Ford Coppola\",\n",
    "\"year\": 1972,\n",
    "\"rating\": 9.2\n",
    "}\n",
    "print(movie['year'])"
   ]
  },
  {
   "cell_type": "code",
   "execution_count": 42,
   "id": "b16bb36b",
   "metadata": {
    "colab": {
     "base_uri": "https://localhost:8080/"
    },
    "id": "EVHzW13u4BMu",
    "outputId": "b66a6419-f192-4206-b966-0349090d5b05"
   },
   "outputs": [
    {
     "name": "stdout",
     "output_type": "stream",
     "text": [
      "9.25\n"
     ]
    }
   ],
   "source": [
    "movie['rating'] = (movie['rating']+9.3)/2\n",
    "print(movie['rating'])"
   ]
  },
  {
   "cell_type": "code",
   "execution_count": 43,
   "id": "d19b07f1",
   "metadata": {
    "colab": {
     "base_uri": "https://localhost:8080/"
    },
    "id": "WZp55iBJ4Ln_",
    "outputId": "3ac81bd0-bd06-40a6-9bc7-a12f6b8a98e8"
   },
   "outputs": [
    {
     "name": "stdout",
     "output_type": "stream",
     "text": [
      "{'title': 'The Godfather', 'director': 'Francis Ford Coppola', 'year': 1972, 'rating': 9.2, 'actors': ['Marlon Brando', 'Al Pacino', 'James Caan'], 'other_details': {'runtime': 175, 'language': 'English'}}\n"
     ]
    }
   ],
   "source": [
    "movie = {}\n",
    "movie['title'] = \"The Godfather\"\n",
    "movie['director'] = \"Francis Ford Coppola\"\n",
    "movie['year'] = 1972\n",
    "movie['rating'] = 9.2\n",
    "\n",
    "movie['actors'] = ['Marlon Brando', 'Al Pacino', 'James Caan']\n",
    "\n",
    "movie['other_details'] = {\n",
    "'runtime': 175,\n",
    "'language': 'English'\n",
    "}\n",
    "\n",
    "print(movie)"
   ]
  },
  {
   "cell_type": "markdown",
   "id": "0882d905",
   "metadata": {
    "id": "qNJ2u6oq4sqK"
   },
   "source": [
    "# Exercise 5: Storing Company Employee Table Data Using a List and a Dictionary"
   ]
  },
  {
   "cell_type": "markdown",
   "id": "b52037a6",
   "metadata": {},
   "source": [
    "## 1. 2. 3."
   ]
  },
  {
   "cell_type": "code",
   "execution_count": 44,
   "id": "ef2b8443",
   "metadata": {
    "colab": {
     "base_uri": "https://localhost:8080/"
    },
    "id": "36ArJi914nIU",
    "outputId": "30b1aea2-34ee-44c0-bdb5-c9641f6c6762"
   },
   "outputs": [
    {
     "name": "stdout",
     "output_type": "stream",
     "text": [
      "[{'name': 'John Mckee', 'age': 38, 'department': 'Sales'}, {'name': 'Lisa Crowford', 'age': 29, 'department': 'Marketing'}, {'name': 'Sujan Patel', 'age': 33, 'department': 'HR'}]\n"
     ]
    }
   ],
   "source": [
    "employees = []\n",
    "employees.append({\"name\": \"John Mckee\", \"age\":38, \"department\":\"Sales\"})\n",
    "employees.append({\"name\": \"Lisa Crowford\", \"age\":29, \"department\":\"Marketing\"})\n",
    "employees.append({\"name\": \"Sujan Patel\", \"age\":33, \"department\":\"HR\"})\n",
    "print(employees)"
   ]
  },
  {
   "cell_type": "markdown",
   "id": "d0ee8086",
   "metadata": {},
   "source": [
    "## 4."
   ]
  },
  {
   "cell_type": "code",
   "execution_count": 45,
   "id": "0c673fba",
   "metadata": {
    "colab": {
     "base_uri": "https://localhost:8080/"
    },
    "id": "YAnA-o925qYI",
    "outputId": "575026ee-2ab6-4656-882b-a1145e32a9fe"
   },
   "outputs": [
    {
     "name": "stdout",
     "output_type": "stream",
     "text": [
      "Name: John Mckee\n",
      "Age: 38\n",
      "Department: Sales\n",
      "------------------------------\n",
      "Name: Lisa Crowford\n",
      "Age: 29\n",
      "Department: Marketing\n",
      "------------------------------\n",
      "Name: Sujan Patel\n",
      "Age: 33\n",
      "Department: HR\n",
      "------------------------------\n"
     ]
    }
   ],
   "source": [
    "for i in range(len(employees)):\n",
    "  for j in ['name', 'age', 'department']:\n",
    "    print(f\"{j.capitalize()}:\",employees[i][j])\n",
    "  print(\"-\"*30)"
   ]
  },
  {
   "cell_type": "markdown",
   "id": "89544146",
   "metadata": {},
   "source": [
    "## 5."
   ]
  },
  {
   "cell_type": "code",
   "execution_count": 46,
   "id": "d719ca8a",
   "metadata": {
    "colab": {
     "base_uri": "https://localhost:8080/"
    },
    "id": "c_Vd5r8N53zD",
    "outputId": "d445dee9-6188-478c-cfac-43b206fa3120"
   },
   "outputs": [
    {
     "name": "stdout",
     "output_type": "stream",
     "text": [
      "Name: Sujan Patel\n",
      "Age: 33\n",
      "Department: HR\n",
      "----------------------------------------\n"
     ]
    }
   ],
   "source": [
    "for employee in employees:\n",
    "  if employee['name']=='Sujan Patel':\n",
    "    for j in ['name', 'age', 'department']:\n",
    "      print(f\"{j.capitalize()}:\",employee[j])\n",
    "    print(\"-\"*40)"
   ]
  },
  {
   "cell_type": "markdown",
   "id": "747d9761",
   "metadata": {
    "id": "0NjLsPdd7hpk"
   },
   "source": [
    "# Exercise 7: Exploring Tuple Properties in Our Shopping List"
   ]
  },
  {
   "cell_type": "markdown",
   "id": "fabec6a8",
   "metadata": {},
   "source": [
    "## 1."
   ]
  },
  {
   "cell_type": "code",
   "execution_count": 47,
   "id": "4444fb94",
   "metadata": {
    "colab": {
     "base_uri": "https://localhost:8080/"
    },
    "id": "0Q-IzJxX7HiK",
    "outputId": "14ff47d4-5b4d-43f2-fcab-f9f15b234f92"
   },
   "outputs": [
    {
     "data": {
      "text/plain": [
       "3"
      ]
     },
     "execution_count": 47,
     "metadata": {},
     "output_type": "execute_result"
    }
   ],
   "source": [
    "t = ('bread', 'milk', 'eggs')\n",
    "len(t)"
   ]
  },
  {
   "cell_type": "markdown",
   "id": "8d581733",
   "metadata": {},
   "source": [
    "## 2."
   ]
  },
  {
   "cell_type": "code",
   "execution_count": 48,
   "id": "686cde6b",
   "metadata": {
    "colab": {
     "base_uri": "https://localhost:8080/",
     "height": 195
    },
    "id": "wFbug_Q-8FGp",
    "outputId": "02a04444-86c7-4820-8f2a-c69435c4ece7"
   },
   "outputs": [
    {
     "ename": "AttributeError",
     "evalue": "'tuple' object has no attribute 'append'",
     "output_type": "error",
     "traceback": [
      "\u001b[1;31m---------------------------------------------------------------------------\u001b[0m",
      "\u001b[1;31mAttributeError\u001b[0m                            Traceback (most recent call last)",
      "\u001b[1;32m<ipython-input-48-656a23da4fe5>\u001b[0m in \u001b[0;36m<module>\u001b[1;34m\u001b[0m\n\u001b[1;32m----> 1\u001b[1;33m \u001b[0mt\u001b[0m\u001b[1;33m.\u001b[0m\u001b[0mappend\u001b[0m\u001b[1;33m(\u001b[0m\u001b[1;34m'apple'\u001b[0m\u001b[1;33m)\u001b[0m\u001b[1;33m\u001b[0m\u001b[1;33m\u001b[0m\u001b[0m\n\u001b[0m\u001b[0;32m      2\u001b[0m \u001b[0mt\u001b[0m\u001b[1;33m[\u001b[0m\u001b[1;36m2\u001b[0m\u001b[1;33m]\u001b[0m \u001b[1;33m=\u001b[0m \u001b[1;34m'apple'\u001b[0m\u001b[1;33m\u001b[0m\u001b[1;33m\u001b[0m\u001b[0m\n",
      "\u001b[1;31mAttributeError\u001b[0m: 'tuple' object has no attribute 'append'"
     ]
    }
   ],
   "source": [
    "t.append('apple')\n",
    "t[2] = 'apple'"
   ]
  },
  {
   "cell_type": "markdown",
   "id": "510ccf9f",
   "metadata": {},
   "source": [
    "## 3."
   ]
  },
  {
   "cell_type": "code",
   "execution_count": 49,
   "id": "00254d0c",
   "metadata": {
    "colab": {
     "base_uri": "https://localhost:8080/"
    },
    "id": "XE8QdwpU8L1V",
    "outputId": "2e82afc0-5cb3-4d51-c601-f8e54b0fc47a"
   },
   "outputs": [
    {
     "name": "stdout",
     "output_type": "stream",
     "text": [
      "('bread', 'milk', 'eggs', 'apple', 'orange')\n",
      "('bread', 'milk', 'eggs')\n"
     ]
    }
   ],
   "source": [
    "print(t + ('apple', 'orange'))\n",
    "print(t)"
   ]
  },
  {
   "cell_type": "code",
   "execution_count": 50,
   "id": "4602b56e",
   "metadata": {
    "colab": {
     "base_uri": "https://localhost:8080/"
    },
    "id": "wjYbMiyF8cay",
    "outputId": "c6bd2abd-6948-4e40-9370-19c2ad62813f"
   },
   "outputs": [
    {
     "name": "stdout",
     "output_type": "stream",
     "text": [
      "('apple', True, 3)\n",
      "(('apple', 3), ('orange', 2), ('banana', 5))\n"
     ]
    }
   ],
   "source": [
    "t_mixed = 'apple', True, 3\n",
    "print(t_mixed)\n",
    "t_shopping = ('apple',3), ('orange',2), ('banana',5)\n",
    "print(t_shopping)"
   ]
  },
  {
   "cell_type": "markdown",
   "id": "6ab2e00a",
   "metadata": {
    "id": "hNnZuK4P82_U"
   },
   "source": [
    "# Exercise 8: Using Sets in Python"
   ]
  },
  {
   "cell_type": "markdown",
   "id": "76482d52",
   "metadata": {},
   "source": [
    "## 1."
   ]
  },
  {
   "cell_type": "code",
   "execution_count": 51,
   "id": "7a1d5171",
   "metadata": {
    "colab": {
     "base_uri": "https://localhost:8080/"
    },
    "id": "StzUw7Rt8qT6",
    "outputId": "85391bb4-13b3-4fb9-9541-b27bb007272d"
   },
   "outputs": [
    {
     "name": "stdout",
     "output_type": "stream",
     "text": [
      "{1, 2, 3, 4, 5, 6}\n",
      "{1, 2, 3, 4, 5, 6}\n",
      "{1, 2, 3, 4, 5, 6}\n"
     ]
    }
   ],
   "source": [
    "s1 = set([1,2,3,4,5,6])\n",
    "print(s1)\n",
    "s2 = set([1,2,2,3,4,4,5,6,6])\n",
    "print(s2)\n",
    "s3 = set([3,4,5,6,6,6,1,1,2])\n",
    "print(s3)"
   ]
  },
  {
   "cell_type": "markdown",
   "id": "8401055b",
   "metadata": {},
   "source": [
    "## 2."
   ]
  },
  {
   "cell_type": "code",
   "execution_count": 52,
   "id": "ae0820d7",
   "metadata": {
    "colab": {
     "base_uri": "https://localhost:8080/"
    },
    "id": "XwxYKPu39Gnr",
    "outputId": "5909c046-8b5f-40e2-a653-7fecfcec84a6"
   },
   "outputs": [
    {
     "name": "stdout",
     "output_type": "stream",
     "text": [
      "{'apple', 'orange', 'banana'}\n"
     ]
    }
   ],
   "source": [
    "s4 = {\"apple\", \"orange\", \"banana\"}\n",
    "print(s4)"
   ]
  },
  {
   "cell_type": "markdown",
   "id": "b05b1ac8",
   "metadata": {},
   "source": [
    "## 3."
   ]
  },
  {
   "cell_type": "code",
   "execution_count": 53,
   "id": "8511ebbd",
   "metadata": {
    "colab": {
     "base_uri": "https://localhost:8080/"
    },
    "id": "fczNfyS99R9B",
    "outputId": "01187bd1-4cfe-440a-819e-c0b9514aca05"
   },
   "outputs": [
    {
     "name": "stdout",
     "output_type": "stream",
     "text": [
      "{'apple', 'pineapple', 'orange', 'banana'}\n"
     ]
    }
   ],
   "source": [
    "s4.add('pineapple')\n",
    "print(s4)"
   ]
  },
  {
   "cell_type": "markdown",
   "id": "a87e1ca6",
   "metadata": {
    "id": "EiOB6YpA9pIJ"
   },
   "source": [
    "# Exercise 9: Implementing Set Operations"
   ]
  },
  {
   "cell_type": "markdown",
   "id": "b60cabfb",
   "metadata": {},
   "source": [
    "## 1."
   ]
  },
  {
   "cell_type": "code",
   "execution_count": 54,
   "id": "fd7ce6b6",
   "metadata": {
    "id": "J8Ro7mS29iHR"
   },
   "outputs": [],
   "source": [
    "s5 = {1,2,3,4}\n",
    "s6 = {3,4,5,6}"
   ]
  },
  {
   "cell_type": "markdown",
   "id": "3d3ec437",
   "metadata": {},
   "source": [
    "## 2."
   ]
  },
  {
   "cell_type": "code",
   "execution_count": 55,
   "id": "f542c3e2",
   "metadata": {
    "colab": {
     "base_uri": "https://localhost:8080/"
    },
    "id": "Vn5LQPnN90oc",
    "outputId": "e39c49bd-7246-4007-b18a-4d4438f286a4",
    "scrolled": true
   },
   "outputs": [
    {
     "name": "stdout",
     "output_type": "stream",
     "text": [
      "{1, 2, 3, 4, 5, 6}\n",
      "{1, 2, 3, 4, 5, 6}\n"
     ]
    }
   ],
   "source": [
    "print(s5 | s6)\n",
    "print(s5.union(s6))"
   ]
  },
  {
   "cell_type": "markdown",
   "id": "798440a3",
   "metadata": {},
   "source": [
    "## 3."
   ]
  },
  {
   "cell_type": "code",
   "execution_count": 56,
   "id": "8111d0eb",
   "metadata": {
    "colab": {
     "base_uri": "https://localhost:8080/"
    },
    "id": "2GQe7xGp94L4",
    "outputId": "2b65b35e-4bc0-424f-a0a5-6e30ab9b1e84"
   },
   "outputs": [
    {
     "name": "stdout",
     "output_type": "stream",
     "text": [
      "{3, 4}\n",
      "{3, 4}\n"
     ]
    }
   ],
   "source": [
    "print(s5 & s6)\n",
    "print(s5.intersection(s6))"
   ]
  },
  {
   "cell_type": "markdown",
   "id": "04ed4fa2",
   "metadata": {},
   "source": [
    "## 4."
   ]
  },
  {
   "cell_type": "code",
   "execution_count": 57,
   "id": "6aa9a025",
   "metadata": {
    "colab": {
     "base_uri": "https://localhost:8080/"
    },
    "id": "JPLbVzBd9-NQ",
    "outputId": "dc6d89a3-75f0-4f6b-c385-a77660faca38"
   },
   "outputs": [
    {
     "name": "stdout",
     "output_type": "stream",
     "text": [
      "{1, 2}\n",
      "{1, 2}\n"
     ]
    }
   ],
   "source": [
    "print(s5 - s6)\n",
    "print(s5.difference(s6))"
   ]
  },
  {
   "cell_type": "markdown",
   "id": "f78a6e09",
   "metadata": {},
   "source": [
    "## 5."
   ]
  },
  {
   "cell_type": "code",
   "execution_count": 58,
   "id": "df056703",
   "metadata": {
    "colab": {
     "base_uri": "https://localhost:8080/"
    },
    "id": "daCak9YT-MQZ",
    "outputId": "6d63274c-d6a4-4d67-db24-62e12ce070ae"
   },
   "outputs": [
    {
     "name": "stdout",
     "output_type": "stream",
     "text": [
      "False\n",
      "False\n",
      "True\n",
      "True\n"
     ]
    }
   ],
   "source": [
    "print(s5 <= s6)\n",
    "print(s5.issubset(s6))\n",
    "\n",
    "s7 = {1,2,3}\n",
    "s8 = {1,2,3,4,5}\n",
    "print(s7 <= s8)\n",
    "print(s7.issubset(s8))"
   ]
  },
  {
   "cell_type": "markdown",
   "id": "3536b44f",
   "metadata": {},
   "source": [
    "## 6."
   ]
  },
  {
   "cell_type": "code",
   "execution_count": 59,
   "id": "5a375f73",
   "metadata": {
    "colab": {
     "base_uri": "https://localhost:8080/"
    },
    "id": "FtaG8xa--VQQ",
    "outputId": "11eedcaa-5aae-403c-e606-c2aae7a4f006",
    "scrolled": true
   },
   "outputs": [
    {
     "name": "stdout",
     "output_type": "stream",
     "text": [
      "True\n",
      "False\n",
      "False\n"
     ]
    }
   ],
   "source": [
    "print(s7 < s8)\n",
    "s9 = {1,2,3}\n",
    "s10 = {1,2,3}\n",
    "print(s9 < s10)\n",
    "print(s9 < s9)"
   ]
  },
  {
   "cell_type": "markdown",
   "id": "c768a918",
   "metadata": {},
   "source": [
    "## 7."
   ]
  },
  {
   "cell_type": "code",
   "execution_count": 60,
   "id": "0626184d",
   "metadata": {
    "colab": {
     "base_uri": "https://localhost:8080/"
    },
    "id": "ssNhQe0A-bcw",
    "outputId": "22f93389-d443-49a1-d719-024b8cc898a3"
   },
   "outputs": [
    {
     "name": "stdout",
     "output_type": "stream",
     "text": [
      "True\n",
      "True\n",
      "True\n",
      "False\n"
     ]
    }
   ],
   "source": [
    "print(s8 >= s7)\n",
    "print(s8.issuperset(s7))\n",
    "print(s8 > s7)\n",
    "print(s8 > s8)"
   ]
  }
 ],
 "metadata": {
  "kernelspec": {
   "display_name": "Python 3",
   "language": "python",
   "name": "python3"
  },
  "language_info": {
   "codemirror_mode": {
    "name": "ipython",
    "version": 3
   },
   "file_extension": ".py",
   "mimetype": "text/x-python",
   "name": "python",
   "nbconvert_exporter": "python",
   "pygments_lexer": "ipython3",
   "version": "3.8.11"
  }
 },
 "nbformat": 4,
 "nbformat_minor": 5
}
